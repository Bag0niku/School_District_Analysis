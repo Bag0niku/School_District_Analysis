{
 "cells": [
  {
   "cell_type": "code",
   "execution_count": 26,
   "id": "cf4bd906",
   "metadata": {},
   "outputs": [],
   "source": [
    "import os\n",
    "import pandas as pd\n",
    "\n",
    "school_data_file = os.path.join(\"Resources\", \"schools_complete.csv\")\n",
    "students_data_file = os.path.join(\"Resources\", \"students_complete.csv\")"
   ]
  },
  {
   "cell_type": "code",
   "execution_count": 27,
   "id": "3ab94d21",
   "metadata": {},
   "outputs": [
    {
     "data": {
      "text/html": [
       "<div>\n",
       "<style scoped>\n",
       "    .dataframe tbody tr th:only-of-type {\n",
       "        vertical-align: middle;\n",
       "    }\n",
       "\n",
       "    .dataframe tbody tr th {\n",
       "        vertical-align: top;\n",
       "    }\n",
       "\n",
       "    .dataframe thead th {\n",
       "        text-align: right;\n",
       "    }\n",
       "</style>\n",
       "<table border=\"1\" class=\"dataframe\">\n",
       "  <thead>\n",
       "    <tr style=\"text-align: right;\">\n",
       "      <th></th>\n",
       "      <th>Student ID</th>\n",
       "      <th>student_name</th>\n",
       "      <th>gender</th>\n",
       "      <th>grade</th>\n",
       "      <th>school_name</th>\n",
       "      <th>reading_score</th>\n",
       "      <th>math_score</th>\n",
       "    </tr>\n",
       "  </thead>\n",
       "  <tbody>\n",
       "    <tr>\n",
       "      <th>39165</th>\n",
       "      <td>39165</td>\n",
       "      <td>Donna Howard</td>\n",
       "      <td>F</td>\n",
       "      <td>12th</td>\n",
       "      <td>Thomas High School</td>\n",
       "      <td>99</td>\n",
       "      <td>90</td>\n",
       "    </tr>\n",
       "    <tr>\n",
       "      <th>39166</th>\n",
       "      <td>39166</td>\n",
       "      <td>Dawn Bell</td>\n",
       "      <td>F</td>\n",
       "      <td>10th</td>\n",
       "      <td>Thomas High School</td>\n",
       "      <td>95</td>\n",
       "      <td>70</td>\n",
       "    </tr>\n",
       "    <tr>\n",
       "      <th>39167</th>\n",
       "      <td>39167</td>\n",
       "      <td>Rebecca Tanner</td>\n",
       "      <td>F</td>\n",
       "      <td>9th</td>\n",
       "      <td>Thomas High School</td>\n",
       "      <td>73</td>\n",
       "      <td>84</td>\n",
       "    </tr>\n",
       "    <tr>\n",
       "      <th>39168</th>\n",
       "      <td>39168</td>\n",
       "      <td>Desiree Kidd</td>\n",
       "      <td>F</td>\n",
       "      <td>10th</td>\n",
       "      <td>Thomas High School</td>\n",
       "      <td>99</td>\n",
       "      <td>90</td>\n",
       "    </tr>\n",
       "    <tr>\n",
       "      <th>39169</th>\n",
       "      <td>39169</td>\n",
       "      <td>Carolyn Jackson</td>\n",
       "      <td>F</td>\n",
       "      <td>11th</td>\n",
       "      <td>Thomas High School</td>\n",
       "      <td>95</td>\n",
       "      <td>75</td>\n",
       "    </tr>\n",
       "  </tbody>\n",
       "</table>\n",
       "</div>"
      ],
      "text/plain": [
       "       Student ID     student_name gender grade         school_name  \\\n",
       "39165       39165     Donna Howard      F  12th  Thomas High School   \n",
       "39166       39166        Dawn Bell      F  10th  Thomas High School   \n",
       "39167       39167   Rebecca Tanner      F   9th  Thomas High School   \n",
       "39168       39168     Desiree Kidd      F  10th  Thomas High School   \n",
       "39169       39169  Carolyn Jackson      F  11th  Thomas High School   \n",
       "\n",
       "       reading_score  math_score  \n",
       "39165             99          90  \n",
       "39166             95          70  \n",
       "39167             73          84  \n",
       "39168             99          90  \n",
       "39169             95          75  "
      ]
     },
     "execution_count": 27,
     "metadata": {},
     "output_type": "execute_result"
    }
   ],
   "source": [
    "students_df = pd.read_csv(students_data_file)\n",
    "school_df = pd.read_csv(school_data_file)\n",
    "students_df.tail()"
   ]
  },
  {
   "cell_type": "code",
   "execution_count": 98,
   "id": "2e4c3d7a",
   "metadata": {},
   "outputs": [],
   "source": [
    "# find the names that need fixed\n",
    "students_names = students_df['student_name'].tolist()\n",
    "students_to_fix = list()\n",
    "prefixes = list()\n",
    "suffixes = list()\n",
    "for name in students_names:\n",
    "    if len(name.split(\" \")) >=3:    # find and save the name that potentially needs fixed\n",
    "        students_to_fix.append(name)  \n",
    "        if len(name.split(' ')[0]) <= 4:  # save the prefixes\n",
    "            prefixes.append(name.split(' ')[0]) \n",
    "        else:\n",
    "            pass\n",
    "        if len(name.split(' ')[-1]) <= 3:    # save the suffixes\n",
    "            suffixes.append(name.split(' ')[-1])\n",
    "\n",
    "# make the prefixes and suffixes lists contain only unique\n",
    "prefixes = list(set(prefixes)) \n",
    "suffixes = list(set(suffixes))\n",
    "# print(suffixes)  # for Debugging and finding the unwanted prefixes and suffixes amoung the list of names that were saved by the filter.\n",
    "suffixes_to_fix = [' MD', ' PhD', ' DDS', ' DVM']\n",
    "prefixes_to_fix = ['Dr. ', 'Miss ', 'Mr. ', 'Mrs. ', 'Ms. ']\n",
    "# print(students_to_fix)"
   ]
  },
  {
   "cell_type": "code",
   "execution_count": 99,
   "id": "0899d7a0",
   "metadata": {},
   "outputs": [
    {
     "name": "stdout",
     "output_type": "stream",
     "text": [
      "['Richard Scott', 'Jordan Carson', 'Madeline Snyder', 'Dylan Taylor', 'Scott Gill', 'Madison Everett', 'Virginia Ramirez', 'Joseph Morales III', 'Angela Perkins', 'Heather Allen', 'Luke Lowery', 'Larry Hines', 'Emily Cardenas', 'Elizabeth Espinoza', 'Lisa Becker', 'Travis Young', 'Paula Fernandez', 'Xavier Bell II', 'Andrew Hanson', 'Roberto Wright', 'Dale Miller', 'Mary Gonzalez', 'Cindy Brown', 'James White', 'Donald Gill', 'Catherine Williams', 'Ashley Caldwell', 'Jared Campbell', 'Michael Moreno', 'Tara Parker', 'Shawn Williams', 'Alicia Martinez', 'Timothy Anderson', 'Paula Lee', 'Elijah Hall', 'Raymond Stone', 'John Dickerson', 'Alex Franklin', 'Jessica Dunn', 'Michael Stevenson', 'Jason Jones', 'Adriana Wade', 'Erica Hurley', 'Garrett Wright', 'James Allen', 'Timothy Harper', 'Dale Brown', 'Christina Moore', 'Angela Peterson', 'Jennifer Ferguson', 'Anthony Wilson', 'Jessica Lopez', 'David Miller Jr.', 'John Jones', 'Samantha Brown', 'Cynthia Hansen', 'Rebecca Montoya', 'Jacob Matthews', 'Jacob Bell', 'Bruce Thomas', 'Robert Martin', 'Marcia Jones', 'Reginald Garcia IV', 'Patricia Smith', 'Amy Dyer', 'Brian Hall', 'Douglas Levy', 'Eric Ibarra', 'Benjamin Ramirez', 'Raymond Freeman', 'Carla Reeves', 'Donald Williams', 'John Carter', 'William Jackson', 'Mitchell Cooper', 'Kevin Brown IV', 'Kathleen Reed', 'Donna Robinson', 'Dawn Olson', 'Dustin Glover', 'Alexis French', 'Lisa Guerrero', 'David Nguyen', 'William Washington Jr.', 'Julie Patterson', 'James Kelly', 'Robert Martin', 'Darlene Thomas', 'Juan Jenkins', 'Juan Bryant II', 'Matthew Coleman', 'Bonnie Hammond', 'Kathleen Harris', 'Steven Velez', 'Tammy Cruz', 'Marie Williams', 'Kenneth Paul Jr.', 'Jose Morris', 'Scott Rivers III', 'Melissa Rodriguez', 'Geoffrey Ortiz', 'Matthew Stewart', 'Sandra Thompson', 'Mark Myers Jr.', 'Maria Smith', 'Kimberly Clements', 'Kenneth Webb', 'Amanda Patterson', 'Tara Banks', 'Nancy Brown', 'Chase Boyd', 'James Spence', 'Colleen Stewart', 'Todd Greene', 'Amanda Hamilton', 'Lisa Rowland', 'Eric Moon', 'Alicia Kelly', 'Michael Norton Jr.', 'James Crosby', 'Sean Pena Jr.', 'Kathy Lucero', 'Dustin Ferguson', 'James Patterson', 'Juan Cobb', 'Victoria Garcia', 'Michael Evans', 'Ebony Bell', 'Justin Mullins', 'Jill Walker', 'Eric Hicks', 'Tara Williams', 'Jessica Watkins', 'Joseph Turner', 'Cody Mueller Jr.', 'Kiara Williams', 'Mathew White Jr.', 'Steve Hendricks', 'Victor Duarte', 'Stacy Maynard', 'Steven Snyder', 'Jessica Warner', 'Trevor Summers', 'Maria Doyle', 'Stacie Walker', 'Megan House', 'Deborah Coleman', 'Ryan Barker', 'Michael Cox', 'Rebecca Martin', 'Sara Jacobs', 'Jason Daugherty Jr.', 'Natalie Holder', 'Charles Hernandez', 'Charles Lawrence', 'Tyler Walker', 'Janet Whitaker', 'Jeremy Watkins', 'David Martinez', 'Kimberly Olsen', 'Nicole Roy', 'Justin Maxwell', 'Danielle Robinson', 'Susan Chase', 'Alex Gonzales', 'Leonard Webster II', 'David Taylor', 'Christopher Stuart', 'Kevin Wilson', 'John Walters', 'Breanna Peterson', 'Terri Quinn', 'Christian Reynolds', 'Donald Gray', 'Shawn Brown', 'Samantha Salas', 'Valerie Thomas', 'Gina Anderson', 'Michael Stein Jr.', 'Robert Day', 'Justin Hernandez', 'Mikayla White', 'Edward Palmer', 'Elizabeth Coleman', 'Alexandra Hood', 'Michael Gonzalez', 'Ryan Phillips Jr.', 'Ashley Jones', 'Susan Trujillo', 'Carol Baker', 'Kelly Ibarra', 'Crystal Perez', 'Joshua Jensen', 'Vanessa Ortiz', 'Jay Navarro', 'Jimmy Smith', 'John Compton', 'Mario Wheeler', 'Joshua Simon', 'Alicia Ferguson', 'Amy Melendez', 'Gloria Fritz', 'Michael Miller', 'Alexandra Taylor', 'Jennifer Ramirez', 'Amy Walker', 'David Dickson', 'Amanda Mills', 'Jason West', 'Joshua Hall', 'Elizabeth Mitchell', 'Sarah Miller', 'Allen Snyder Jr.', 'Calvin Williams Jr.', 'Tammy Shelton', 'Jennifer Gibson', 'Christy Robinson', 'Michael Rhodes', 'Deborah Huffman', 'Ronald Torres Jr.', 'Oscar Bautista', 'Ellen Mcgee', 'Emily Andrews', 'Richard Williams', 'Michael Baker', 'Robert Taylor', 'Traci Obrien', 'Robert Harris', 'Diana Martin', 'Logan Ward', 'Janice Dixon', 'Gabriel Smith III', 'Linda Duran', 'Ronald Mayer', 'David Smith', 'Brian Pitts Jr.', 'Stephanie Rose', 'Richard Stephens', 'Kimberly Joseph', 'Bruce Thompson II', 'Tony Adams', 'Annette Collins', 'Chad Hendricks', 'Lindsey Tyler', 'Michael Drake', 'Jeremy Sanders II', 'George Goodwin', 'Amanda Ramirez', 'Aaron Morris', 'Michelle Butler', 'Robert Carson', 'Jennifer Martin', 'Amber Wallace', 'Mary Hardy', 'Jennifer Smith', 'Jodi White', 'Ryan Strickland', 'Michael Koch', 'Kara Rodriguez', 'Ryan Adams', 'Austin Johnson II', 'Samuel Robertson', 'Benjamin Vargas', 'Wendy Thomas', 'Bryan Conway Jr.', 'Brittany Hatfield', 'Casey Hayes', 'Johnny Byrd', 'Nicole Burke', 'Brett Banks', 'Lori Johnson', 'Michael Shea', 'Jesse Thompson', 'Brooke Simpson', 'Michael Davis', 'Thomas White', 'Jessica Scott', 'Michael Burton', 'Laurie Brown', 'Cindy Logan', 'Nicholas Jones', 'Ronald Moore II', 'Jonathon Patrick', 'Andrew Kemp', 'Alexander Garcia', 'Brett Campbell', 'Paige Hall', 'Danielle Smith', 'Catherine Mendez', 'David Mcdonald', 'Ashley Porter', 'Jason Mcdowell', 'Martin Lozano', 'Bruce Hendrix', 'Pamela Cox', 'Kristina Turner', 'Samantha Buchanan', 'Cameron Singh', 'Steven Davis', 'Ruth Martinez', 'George White', 'Michael Johnson', 'Joshua Garrison', 'Nicholas Rodriguez', 'Sarah Ray', 'Natalie Rivera', 'Tracy Powell', 'Jason Chavez', 'Leslie Mathews', 'Patrick Newman', 'Michael Chapman', 'Jennifer Long', 'Matthew Anthony', 'Robert Garrison IV', 'Jamie Anderson', 'William Gonzalez Jr.', 'Jennifer Weiss', 'Cynthia Torres', 'John Miranda', 'Brian Matthews Jr.', 'Christopher Quinn', 'Jacqueline Rose', 'Angela Gray', 'Tara Carpenter', 'Shannon Stevenson', 'Kaitlin Warner', 'Jessica Fowler', 'Catherine Armstrong', 'John Mullins', 'Christina Benson', 'Amy Martinez', 'Ashley Edwards', 'Melissa Herrera', 'Adam Arroyo', 'Amanda Cochran', 'Eric Richards Jr.', 'Angela Martinez', 'Natalie Garcia', 'Dennis Duke', 'Christopher Fleming', 'Misty Beck', 'Sharon Lloyd', 'Laura Malone', 'Gabriel Flores', 'Russell Gallegos', 'Kyle Walker', 'Caleb Oliver', 'Cameron Erickson', 'Pamela Oliver', 'Mariah Russell', 'Jonathan Fisher', 'Sarah Mcintosh', 'Lynn Jones', 'Allison Martinez', 'Jeffrey Zamora', 'Kenneth Munoz Jr.', 'Ellen Mcclure', 'Samantha Ballard', 'Mariah Franco', 'Daniel Smith', 'Jon Delgado Jr.', 'Anna Dickerson', 'Cynthia Martinez', 'Angela Hamilton', 'Stephanie Stone', 'Marcus Kim', 'Jordan Brewer', 'Veronica Neal', 'Mike Alvarez', 'Patricia Lee', 'Andrew English Jr.', 'Jennifer Martinez', 'Donna Humphrey', 'Jennifer Tucker', 'Jamie Bond', 'Judy Mills', 'Christina Jackson', 'Raymond Cox Jr.', 'Donna Cooper', 'Jeffrey Mcclain Jr.', 'Joseph Hill', 'Bryan Shaffer', 'Julie Bond', 'Michael Hunter', 'Melissa Rodriguez', 'Deborah Rodriguez', 'Andrea Wilson', 'Jonathan Woods', 'Jacob Ballard', 'Brian Poole V', 'Jeffrey Kim II', 'Michael Gonzalez', 'Kevin Brooks', 'April Hansen', 'Brian Austin', 'Sara Cooper', 'Kelsey Ellis', 'Deborah Madden', 'Brooke Silva', 'Melissa Allen', 'Karen Thomas', 'Sophia Harper', 'Tara Singleton', 'Alison Flores', 'Kenneth Adams', 'Natasha White', 'Amanda Sanchez', 'Scott Campbell', 'Matthew Alexander Jr.', 'Shane Gilmore', 'Paula Lawson', 'Theresa Roberts', 'Kevin Reynolds Jr.', 'David Anderson', 'Gabrielle Morris', 'Jacob Skinner Jr.', 'Lisa Kennedy', 'Timothy Byrd', 'Haley Jordan', 'Deborah Mack', 'Mckenzie Morris', 'Megan Saunders', 'Tina Meyer', 'Harold Sutton', 'James Allen', 'Lauren Perry', 'Eric Riley', 'Jamie Rogers', 'Natasha Lee', 'Paula Taylor', 'Theodore Mendez', 'Rebecca Johnson', 'Dennis Gibson Jr.', 'Sherry Flores', 'Alejandro Swanson', 'Tiffany Peters', 'Christopher Crawford', 'Jimmy Shea Jr.', 'Joshua Cunningham', 'Travis Jackson', 'Mary Johnson', 'Patrick Duarte', 'Adam Hernandez', 'Susan Wright', 'Stephanie Perry', 'Tracey Gonzalez', 'Paul Hernandez', 'Jasmine Schroeder', 'Adam Sosa', 'Linda Sanchez', 'Danielle Jones', 'Benjamin Henry', 'Randy Reyes', 'Russell Elliott', 'Thomas Smith', 'Rachel Hanna', 'Robert Stephens', 'Sean Duncan', 'Maria Adams', 'Theresa Bauer', 'Teresa Blair', 'Jennifer Campbell', 'Melody Garcia', 'James Reed Jr.', 'Elizabeth Wallace', 'Gina Williams', 'Emily Price', 'Bonnie Boyd', 'Harry Campbell', 'Kevin Simon', 'Eric Lambert', 'John Mathis', 'Jason Bush', 'Amy House', 'Kevin Diaz', 'Kevin Benjamin', 'Michelle Dickerson', 'Alexandra Mays', 'Jessica Hebert', 'George Cline', 'Whitney Scott', 'Jennifer Jenkins', 'Gregg Rosario', 'Scott Roth', 'Evelyn Kirby', 'Miranda Thompson', 'Carla Ross', 'Tanya Odom', 'Jeffery Baker Jr.', 'Melissa Medina', 'Daniel Lara', 'Nicole Vazquez', 'Emily Gutierrez', 'Stephanie Smith', 'Derrick Hughes III', 'Eduardo James', 'Michael Cook', 'David Hill', 'Ryan Orozco', 'Joshua Rivera Jr.', 'Marc Harmon', 'Keith Peters', 'Amanda Freeman', 'Michelle Carlson', 'Stephen Vargas', 'Colleen Frederick', 'Harry Chang', 'Taylor Grant', 'Renee Thomas', 'Shannon Johnson', 'Christina Horne', 'Deborah Walters', 'Jesse Gonzalez', 'Larry Martinez', 'Anita Lee', 'James Jones', 'Tammy Jones', 'Michael Golden', 'Gavin Tate', 'Christopher Collins', 'Timothy Guzman Jr.', 'Alexander Thomas', 'James Lewis', 'Andrew Miller', 'Kelly Hall', 'Kayla Lowe', 'Joseph Park', 'Alfred Foster', 'Amy Stephenson', 'Stephen Black', 'Daryl Smith', 'Stuart Gross', 'Michael Hardy', 'Kenneth Chase', 'Anna Everett', 'Joshua Young', 'Robin Lopez', 'Elizabeth Benson', 'Casey Hogan', 'Elizabeth Peterson', 'Marilyn Vasquez', 'Jack Reed', 'Zachary Shields', 'Molly Lopez', 'Stephanie Jones', 'Benjamin George', 'David Thomas', 'Jill Hudson', 'Mary Mccormick', 'Michelle Smith', 'Carl Burns', 'Juan Buckley', 'Michelle Brown', 'Jose Huffman', 'Deanna Mccarthy', 'Robin Hughes', 'Laura Shannon', 'Mary Fox', 'Jamie Sanchez', 'Meredith Tucker', 'Jose Manning', 'Lisa Bruce', 'Crystal Howard', 'Tracy Williams', 'Jeffery Diaz', 'Julie Baker', 'Danielle Adams', 'Lonnie Allen II', 'Bryan Brooks', 'Ashley Jimenez', 'Tyrone Clark III', 'Eric Mullins', 'Jonathan Walker', 'Patricia Villarreal', 'Megan Kaufman', 'Mathew Thompson', 'Whitney Figueroa', 'Debbie Chavez', 'Emma Bates', 'Jeffrey Nelson Jr.', 'Michael Mann II', 'Karina Perry', 'Chelsey Williams', 'Jessica Sanchez', 'Joseph Ellis', 'Heather Gregory', 'Steven Davies', 'Lauren Brown', 'Brett Garcia', 'Anthony Davis', 'Anita Salazar', 'Joseph Jones', 'Edward Davis', 'Brian Abbott', 'Nicole Pennington', 'Kelly Doyle', 'Franklin Chen', 'Brandon Young', 'Nathan Welch', 'Katrina Farmer', 'David Johnson Jr.', 'Timothy Chavez Jr.', 'Michele Oconnell', 'Elizabeth Tran', 'Grace Martin', 'Sarah Chaney', 'Brooke Henry', 'Lisa Coleman', 'Brian Powell III', 'Logan Oconnell', 'Lance Rangel Jr.', 'Nicole King', 'John Carroll', 'Anthony Mccormick', 'Samuel Ruiz', 'Jennifer Richard', 'Stephen Cochran', 'Gary Jarvis', 'Dustin Stephenson', 'Derrick Campbell', 'Lori Brown', 'Brooke Rodgers', 'David Moss', 'Joseph Knight', 'Brittany Duncan', 'Jennifer Edwards', 'William Cook', 'Kristina White', 'Tonya Henry', 'Robert Sanders', 'Noah Herrera Jr.', 'Linda Marshall', 'James Davis', 'Dawn Gilbert', 'Dennis Andrews', 'John Evans', 'Michael Brooks', 'Shannon Ortiz', 'Brenda Bishop', 'Wanda Miller', 'Sheila Wagner', 'Kathleen Johnson', 'Shannon Russo', 'Chad Chavez', 'William Holt', 'Paul Jensen', 'Cassandra Gardner', 'Susan Klein', 'Amanda Nguyen', 'Leslie Esparza', 'Jacqueline Simpson', 'Tammy Crane', 'Wendy Oliver', 'Katelyn Mejia', 'Miguel Rivera', 'Nancy Landry', 'Renee Stewart', 'Breanna Mcintyre', 'Sarah Fischer', 'Ronald Berry', 'Amanda Cook', 'Monica Gonzalez', 'Jennifer Moore', 'Crystal Watson', 'Suzanne Edwards', 'Lance Brown', 'Olivia Taylor', 'Lauren Lewis', 'Jillian Proctor', 'Yvette Jacobson', 'Chelsea Rhodes', 'Robert Brown', 'Maria Brooks', 'Eric Johnson Jr.', 'Kelly Webb', 'Valerie Chen', 'Taylor Martin', 'Andre Casey', 'Stephen Clements', 'Kevin Morrow', 'Louis Skinner', 'Adam Walker', 'Steven Smith', 'Willie King', 'Miranda Stanley', 'Travis Johnson', 'Christopher Cook', 'Martin Hensley', 'Kelly Haynes', 'Alexander Foster', 'William Rodgers', 'Anne Larsen', 'Sherry Johnson', 'Victor Chavez II', 'Brandon Dougherty', 'Elizabeth Young', 'Joshua Lucas', 'Michael Walsh', 'Lauren Campbell', 'Troy Camacho', 'Richard Ellis Jr.', 'Brandon Johnson', 'Brooke Campbell', 'Karen Kelley', 'Jason Simmons', 'Larry Francis', 'Christopher Griffin', 'Dean York', 'Charles Goodman Jr.', 'Erin Bradley', 'Michael Allen', 'Kelly Romero', 'Anna Yang', 'John White', 'James Barnes', 'Carlos Warner', 'April Calderon', 'Kimberly Key', 'Eric Park', 'Patrick Barker', 'Michael Singh Jr.', 'Jonathan Smith Jr.', 'Allen Morris Jr.', 'Lee Rose', 'Carl James', 'Kimberly Benjamin', 'Lucas Smith', 'Jason Grant', 'Aaron Solis Jr.', 'Ryan Graham', 'Justin Morgan', 'Victoria Cochran', 'Ryan Roberts', 'Katie Strickland', 'Emma Perry', 'Daniel Mckinney Jr.', 'Paul Farmer', 'Stephanie Howard', 'Mandy Mcconnell', 'Angelica Hall', 'Christopher Petty Jr.', 'Megan Shaw', 'Bianca Huynh', 'Christina Burns', 'Melissa Dunn', 'Derek Wilson', 'Angel Johnson', 'Nicole Duran', 'Michael Garcia Jr.', 'Bethany Fisher', 'Daniel Nguyen', 'Wanda Moore', 'Charles Short II', 'Kimberly Jacobson', 'Debbie Brown', 'Michael Dyer', 'Joshua Kim', 'Daniel Fitzpatrick', 'Jordan Waller', 'Jesse Bell', 'Mario Myers', 'Terry Adams', 'Derek Barker Jr.', 'Renee Gordon', 'Vincent King', 'Oscar Lawson', 'Lisa Zimmerman', 'Phillip Vaughan', 'Joseph Dyer', 'Austin Cole', 'Amanda Martin', 'John Thomas', 'Sierra Dominguez', 'Katie Weber', 'Nancy Green', 'Pamela Garcia', 'Danielle Stanton', 'Elizabeth Logan', 'Courtney Wall', 'Karen Harris', 'Amanda Herring', 'David Miller', 'Eric Anderson', 'Sheena Bailey', 'Zachary Garrett III', 'Thomas Harrison Jr.', 'Megan Bennett', 'Steven Harrison', 'Amy Mcintosh', 'Frank Anderson', 'Jamie Dawson', 'Andrew Mitchell V', 'Travis Richmond', 'Amy Cain', 'Aaron Davis Jr.', 'Thomas Burgess', 'Amanda Hale', 'Derek Cooke', 'Daniel Bowman', 'Jonathan Palmer', 'Lori Mitchell', 'Richard Armstrong', 'Timothy Johnson', 'Pam Lewis', 'Amy Gutierrez', 'Christina Flores', 'Brian Bailey Jr.', 'Carla Humphrey', 'William Burch', 'Yvonne Robinson', 'Martha Mcdonald', 'Mary Schwartz', 'Taylor Green', 'Christopher Simmons', 'Rhonda Peterson', 'Jacqueline West', 'Anne Lee', 'Jacqueline Snow', 'Jennifer Shea', 'Clayton Williams', 'Jeremiah Morris IV', 'John Harris', 'David Morales Jr.', 'Barbara Johnson', 'Megan Gutierrez', 'Larry Chandler Jr.', 'Ronald Matthews', 'James Clark II', 'Cameron Roman Jr.', 'Ian Smith', 'Melissa Hunt', 'Alexandria Cooper', 'Andre Jensen', 'Renee Garcia', 'Christopher Smith Jr.', 'Lori Rogers', 'Tammy Dunlap', 'Matthew Sawyer', 'Mike Harris', 'Christina Mitchell', 'Evelyn Suarez', 'Christina Alvarez', 'Emily Duran', 'Todd Grant Jr.', 'Veronica Sherman', 'Alan Anderson', 'Jason Jackson', 'Jennifer Rivera', 'Terry Sanchez', 'Scott Sexton', 'Wendy Hayes', 'Kenneth Santiago', 'Matthew Hernandez', 'Louis Hodges', 'Douglas Duffy', 'Michelle Patterson', 'Jennifer Craig', 'Michael Graham', 'David Wright', 'Jeanne Fischer', 'Amanda Rose', 'Rebecca Salazar', 'Kathleen Cook', 'Robert Olson', 'Richard Cherry', 'Jeffrey Shepard', 'James Holland', 'Patricia Baker', 'Joshua Montgomery', 'Kevin Andrews', 'Rachel Gilbert', 'Kenneth Avila Jr.', 'Taylor Barron', 'Jason Lopez Jr.', 'Parker Carter', 'Dennis Wells', 'Carol White', 'Courtney Stephenson', 'Andrea Rose', 'Seth Villarreal', 'Sabrina Murillo', 'Eric Gordon', 'Brenda Johnson', 'Anthony Garrett', 'Billy Franco', 'Jeremiah Rogers', 'Donald Vang', 'Alexander Chang', 'Robert Hendricks', 'Bryan Kim', 'Cynthia Lopez', 'Laura Thompson', 'Stephanie Schwartz', 'Anthony Deleon', 'Sarah West', 'Devin Sharp', 'Brittney Hammond', 'Chelsea Sullivan', 'Jessica Love', 'Leah Page', 'Hannah Rose', 'Norma Mcfarland', 'Dwayne Mathis Jr.', 'Cheryl Gay', 'Patrick Morgan', 'Jeremy Rivera', 'Colton Collins II', 'Alexander Dalton', 'Nicholas Braun', 'Chris Palmer III', 'Mason Hernandez', 'Roberta Edwards', 'Kaitlin Barton', 'Nicholas Garcia', 'Trevor Woods', 'Bradley Jones', 'Jennifer Thomas', 'Adam Rivera', 'Sean Coleman', 'Sheila Walton', 'Ian Sanchez', 'Robert Mckinney', 'Laura Franco', 'Kelly Williams', 'Mason Adams', 'Jason Davis', 'Daniel Flores', 'Gary Anderson', 'Tyler Randall Jr.', 'Joshua Santiago', 'Laurie Moore', 'Susan Walsh', 'Kristin Smith', 'Denise Vasquez', 'Bridget Ryan', 'Joseph Morgan IV', 'Carlos Adkins Jr.', 'Michael Craig', 'Brent Schwartz', 'Melissa Vasquez', 'Sandra Ware', 'Becky Powell', 'Matthew Cooper', 'Mark Livingston Jr.', 'Michael Martin', 'Kari Anderson', 'Kaitlin Oconnor', 'Crystal Miller', 'Margaret Watson', 'John Martin', 'Richard Price', 'Jennifer Powell', 'Sheri Davis', 'Traci Blanchard', 'Nancy Blair', 'Aaron Carpenter', 'Monica Wilson', 'Kristin Holland', 'Kimberly Knight', 'Brittany Ford', 'Benjamin Singh', 'Amber Owens', 'Michael Williams III', 'Wendy Gomez', 'Kara Stuart', 'Kayla Torres', 'Bobby Hart', 'Mark Russell', 'John Duncan', 'Rachel Gonzalez', 'Katherine Jones', 'Brian Harrington', 'Theresa Winters', 'Chad Hale', 'Miguel Cook', 'Eric Evans III', 'John Murray', 'Andrew Young', 'Jordan White', 'Erica Stevenson', 'Stephen Hardy', 'Paul Stanley', 'Christina Gonzalez', 'Anthony Jimenez', 'Christopher Thornton Jr.', 'Julie Powers', 'Christopher Sullivan', 'Joyce Pace', 'Alyssa Patrick', 'Adam Hayes III', 'Brittany Holmes', 'Angela Floyd', 'Angela Hernandez', 'Michael Cummings', 'Brittany Sanchez', 'Nicole Mclean', 'Melissa Fernandez', 'Scott Bishop', 'Alexandra Hamilton', 'Jacob Taylor', 'Michael Moore Jr.', 'Alicia Zhang', 'Sharon Rose', 'Amber Ray', 'Jeremy Chang', 'Joseph Hudson II', 'Jessica Hughes', 'William Brooks Jr.', 'Jacob Frost', 'Melissa Ingram', 'Robert Murphy', 'Melanie Martinez', 'Stephen Berry', 'Judith Reese', 'Sarah Young', 'Angela Thompson', 'Darren Taylor', 'Daniel Welch II', 'Roger Horton Jr.', 'Virginia Evans', 'John Dyer', 'Jeffery Brown', 'Paul Cox', 'Angela Williams', 'Cory Marshall II', 'Megan Clark', 'Jennifer Hogan', 'Natalie Davis', 'Sarah Johnson', 'Corey Mathis', 'Joshua Thompson Jr.', 'Nancy Stewart', 'Brian Glover', 'Roberta Garcia', 'Erin Conrad', 'Karla Love', 'Tina White', 'Leslie Wright', 'Brittney Nunez', 'Susan Mccormick', 'Amanda Wolf', 'Mitchell Coleman', 'Christy Harris', 'Dylan Foley', 'Lance Stark', 'Ricky Murphy', 'Elijah Anderson', 'Kristen Dennis', 'Casey Vang', 'William Young', 'Kristina Cook', 'Kimberly Floyd', 'Timothy Brooks', 'Samantha Jackson', 'Lori Doyle', 'Karen Villegas', 'Brenda Maldonado', 'Katherine Pierce', 'Aaron Morrison', 'Marcia Swanson', 'Yolanda Harris', 'Roger Forbes', 'Tiffany Harmon', 'Kimberly Brandt', 'Casey Pham', 'Dana Hammond', 'John Ruiz', 'David Li', 'Lisa Velasquez', 'Brian Bryan', 'Brian Wilson', 'Joseph Medina', 'Monica Dean', 'Travis Mcintyre', 'Kelsey Marshall', 'Duane Roberts', 'Jon Flores II', 'Lisa Lyons', 'Philip Jones Jr.', 'Greg Joyce Jr.', 'Barbara Tran', 'Mary Duarte', 'Christina Hull', 'Anthony Wilson', 'Lisa Baker', 'Mary Sloan', 'Joshua King', 'Daniel Mckinney', 'Nicole Martinez', 'David Robinson', 'Joe Butler', 'Thomas Frye Jr.', 'Patrick Mcdaniel', 'Brooke Williams', 'Robert Edwards', 'Cynthia Mclaughlin', 'Mark Hardy', 'Kathryn Riley', 'Heather Price', 'Ashley Howell', 'James Adams', 'Michael Eaton', 'Joseph Marquez Jr.', 'Danielle Mercer', 'Jacqueline York', 'Barbara Sanchez', 'Valerie Kline', 'Tony Cobb', 'Justin Jarvis', 'Nichole Novak', 'Matthew Cameron', 'Michael Robinson', 'Adam Munoz', 'Stephen Vaughan', 'Daniel Hale', 'Valerie Mccormick', 'Robert Smith Jr.', 'David Beck Jr.', 'Dana Bennett', 'Tina Woodard', 'James Smith', 'Jerry Norton', 'Billy Hall', 'Lauren Robertson', 'Joyce Cunningham', 'Matthew Reilly', 'Erik Lowe', 'Tara Lee', 'Theresa Gaines', 'Danielle Brown', 'Misty Wood', 'Jonathan Maldonado', 'Ashley Martin', 'Emily Ford', 'Isaiah Martinez', 'Christopher Moore', 'Andrew Robinson', 'Ryan Gates', 'John Fitzgerald', 'Gail Page', 'Cheryl Richards', 'Todd Sandoval', 'Brendan Watson', 'Brandon Bryan', 'Karen Wright', 'Rhonda Stevenson', 'Danielle Cook', 'Taylor Velazquez', 'Michelle Porter', 'Ryan Gomez II', 'Rachel Hensley', 'Cynthia Lawrence', 'Melissa Gonzalez', 'Laura Tyler', 'Erik Smith Jr.', 'Angie Clarke', 'Jennifer Olson', 'Omar Thompson Jr.', 'William Smith', 'Jessica Smith', 'Justin Mccoy', 'Robert Nguyen', 'Leonard Roberts Jr.', 'Paul Johnson', 'Cody Martinez', 'Duane Li Jr.', 'Allison Cunningham', 'Robert Hurley', 'Ashley Floyd', 'Hunter James', 'Brianna Greene', 'Matthew Higgins', 'Jeremy Valentine', 'Wesley Martinez', 'Justin Jones', 'Brent Ball', 'Jessica Holloway', 'Mark Sanders', 'Tracy Levy', 'Larry Anderson', 'Steven Smith', 'Christian Hurst', 'Amanda Gomez', 'Anthony Nunez', 'Rachel Newman', 'Tyler Foster', 'Barry Copeland', 'Richard Edwards', 'Carly Montoya', 'Amy Bradford', 'Tyler Allen', 'Melissa Ramirez', 'Claudia Cook', 'Thomas Herrera', 'Bobby Tucker', 'Stephanie Gonzalez', 'Bridget Hart', 'Emily Graham', 'Daniel Carpenter', 'Christian Bennett', 'Mark Peters', 'Bradley Jackson', 'Hannah Moore', 'Kaitlyn Adams', 'Darren Moore', 'Richard Lucero Jr.', 'Elizabeth Holder', 'Shannon Gonzalez', 'Seth Medina Jr.', 'Betty Raymond', 'Crystal Watson', 'Scott Diaz', 'Lindsey White', 'Ryan Lamb', 'Amber Graham', 'Jennifer Chavez', 'Becky Aguilar', 'Lisa Vargas', 'Robert Frazier', 'Jennifer Kelly', 'Richard Curry', 'Anna Perez', 'Keith Gomez', 'Anthony Carlson Jr.', 'Bradley Rodgers', 'William Bishop', 'Rhonda Bradley', 'Kimberly Martin', 'Ryan Martinez', 'Latasha Thomas', 'Tamara Burns', 'Andrea Dawson', 'Daniel Johnson', 'Lauren Smith', 'Nicole Brady', 'Wyatt Hoffman', 'Kathy Bailey', 'Jorge Smith', 'Katherine Pham', 'Deanna Key', 'Donna Mcclure', 'Jeremy Davis', 'Brittany Boone', 'Debra Torres', 'Hannah Garcia', 'Jacqueline Stone', 'Wesley Lynch', 'Edward Dudley II', 'Nathan Gonzalez', 'Sean Neal', 'Matthew Lewis Jr.', 'Jacob Perez', 'Alexander Brown', 'Duane Sherman', 'John Petty', 'Brooke Stewart', 'Isaac Smith', 'Kristi Soto', 'Timothy Haynes', 'Raven Ortiz', 'Kendra Buckley', 'Russell Daniel', 'Christopher Bowers Jr.', 'Wendy Arroyo', 'Taylor Hill', 'Lisa Guerrero', 'Jose Moran', 'Allison Perkins', 'Lisa Monroe', 'Kenneth Cervantes', 'Sandra Freeman', 'Patrick Rodriguez', 'Brendan Kim', 'Timothy Hughes Jr.', 'Carlos Mcdonald', 'Chad Bryant', 'Gina Nguyen', 'James Myers', 'Meagan Browning', 'Frank Delgado', 'Michael Torres', 'Michelle Richards', 'Kimberly Osborn', 'Kevin Hoover IV', 'Jeffrey Thompson', 'Laurie Hamilton', 'David Butler Jr.', 'Amy Jones', 'Nicholas Frost', 'James Thompson', 'Adrienne Evans', 'Christopher Bell', 'Louis Smith', 'Cameron Anderson', 'Crystal Wiggins', 'Michael Wilson Jr.', 'Matthew Savage', 'Jeffrey Jones', 'John Burns', 'Luke Torres', 'Christopher Stewart', 'Benjamin Carlson', 'Emily Fitzgerald', 'Carolyn Cole', 'Bruce Cummings', 'Lisa Vance', 'Lisa Doyle', 'Brenda Sandoval', 'Taylor Garza', 'Elizabeth Robinson', 'George Hess Jr.', 'Courtney Cox', 'Brian Schmidt', 'Kevin Briggs Jr.', 'Grace Austin', 'Louis Cooper', 'Tabitha Coleman', 'Thomas Knox', 'Sierra Little', 'Joseph Matthews III', 'Brenda Henderson', 'Michael Martin', 'Andrew Dennis', 'Edward Davenport', 'Dylan Bailey Jr.', 'John Jackson', 'Lisa Hernandez', 'Michael Gibbs', 'Angel Brown', 'Timothy Carter', 'Anthony Woods Jr.', 'Amy Watson', 'Marcus Jones', 'Kelsey Bennett', 'Ashley Wells', 'Michael Harris Jr.', 'Daniel Diaz Jr.', 'April Thornton', 'Steven Reid', 'Jay Maxwell', 'Patrick Rasmussen', 'Jordan Smith', 'Cristian Williams', 'Amanda Harris', 'Sean Reed', 'Robin Higgins', 'Megan Glass', 'William Scott', 'Chad Gentry', 'Taylor Thompson Jr.', 'Wendy Martin', 'Daniel Robinson Jr.', 'Jessica Hood', 'Michael Taylor', 'Micheal Stout', 'Michael Aguirre', 'Karl Campbell', 'Aaron Randolph', 'Jenna Arellano', 'Holly Adams', 'Melissa Barnett', 'Brenda Brown', 'Alicia Palmer', 'Carl Haynes', 'Anthony Bryant', 'Christopher Perez', 'Amber Garner', 'Thomas Diaz', 'Logan Thomas', 'Sherry Turner', 'Joshua Martinez', 'Alicia Sanford', 'Laura Sexton', 'Melissa Coleman', 'Dana Burnett', 'Ronald Phelps Jr.', 'Jessica Flynn', 'Robin Jones', 'Michael Jones', 'Jeffrey Parker', 'Elizabeth Jones', 'Erika Stafford', 'Vincent Reed', 'Justin Mcgee', 'Todd Turner', 'Karen Kidd', 'Michael Miller', 'Deborah Farrell', 'Sharon Kelley', 'Andrew Cole', 'Jonathan Reid II', 'Taylor Castillo', 'Joshua Smith Jr.', 'Joseph Herrera III', 'Megan Smith', 'Catherine Ferguson', 'Mitchell Hays', 'Jordan Turner', 'Robert Reyes', 'Johnny Walsh', 'Andrew Walsh', 'Lauren Collins', 'Adam Thompson', 'Chelsea Roberts', 'Debra Brown', 'Vicki Santos', 'Tony Robertson II', 'Kathleen Golden', 'Elizabeth Tran', 'Rachel West', 'Jessica Hoover', 'Toni Graham', 'Joseph Patel', 'Nathaniel Molina', 'Cheryl Fisher', 'Nicolas Crawford', 'Wendy Owens', 'Patricia Boone', 'Robert Estrada', 'Kevin Yates', 'James Fowler III', 'Andrea Welch', 'Sara Parker', 'Destiny Mcdonald', 'Brittany Perry', 'Timothy Mccoy', 'Melissa Cohen', 'William Wright II', 'Jose White', 'Mason Graves', 'Diane Rodriguez', 'Marilyn Rubio', 'Jose Lewis', 'Latasha Hughes', 'Monica Wallace', 'Robin Reed', 'Ashley Butler', 'Misty Garcia', 'Amy Turner', 'Robert Miller', 'Andrea Horton', 'Thomas Estes', 'Justin Warner', 'Thomas Carrillo II', 'James Hess', 'Matthew Bennett Jr.', 'John Scott', 'Carla Lawson', 'Anthony Campbell', 'Mario Griffith', 'Jacob Jackson', 'Allison Robinson', 'Amber Hall', 'Gabriela Burch', 'Kathryn Wade', 'Anthony Martinez', 'Justin Duffy', 'Steven Hoover', 'Mary Smith', 'Tiffany Young', 'Mark Lucas IV', 'Kenneth Marquez', 'Keith Newman Jr.', 'Matthew Mitchell III', 'Jo Williams', 'Lauren Howell', 'Erica Martin', 'Hannah Mcdonald', 'Brandon Palmer', 'Stephanie Nichols', 'Mckenzie Cummings', 'Valerie Joseph', 'Harold Parker', 'David Reeves', 'Christina Barrera', 'Kristen Solis', 'Colin Schultz II', 'Michelle Li', 'Andrew Summers', 'Kimberly Ramos', 'Thomas Meyer', 'Troy Foster', 'John Hernandez', 'Valerie Krueger', 'Carol Valdez', 'Jay Johnson', 'Brenda Holloway', 'Wendy Parker', 'Kim Smith', 'Wesley Fields', 'Nicole White', 'Amanda Skinner', 'Adrienne Turner', 'Terry Scott Jr.', 'Cesar Rodriguez', 'Jennifer Gay', 'Earl Thompson', 'Melinda Thomas', 'Mary Nixon', 'Leslie Kelly', 'Kristen Gonzalez', 'Michael Carter', 'Joseph Perez', 'Alice Warren', 'Julia Kelley', 'David Coffey', 'Pam Wolf', 'Ryan Thomas', 'Gregory Morgan', 'Carol Williams', 'Rebecca Gonzales', 'Samantha Glover', 'Anna Decker', 'Hailey Lopez', 'James Baker', 'Amber Gonzalez', 'Jason Patel Jr.', 'Stephanie Walker', 'Timothy Scott', 'Michael Sullivan', 'Brittney Schultz', 'Frances Romero', 'Laura Bennett', 'Allen Goodwin', 'Kimberly Brown', 'Steven Lewis Jr.', 'Angela Garcia', 'William Foster', 'Lucas Williams Jr.', 'Kimberly Page', 'Deborah Higgins']\n"
     ]
    }
   ],
   "source": [
    "# find and fix the prefixes\n",
    "for pref in prefixes_to_fix:\n",
    "    for index, name in enumerate(students_to_fix):\n",
    "        if pref in (name[:len(pref)]):\n",
    "            name = name[len(pref):]\n",
    "            students_to_fix[index] = name\n",
    "\n",
    "        else: \n",
    "            pass\n",
    "\n",
    "\n",
    "# find and fix the suffixes\n",
    "for suff in suffixes_to_fix:\n",
    "    for index, name in enumerate(students_to_fix):\n",
    "        if suff in (name[-(len(pref)):]):\n",
    "            name = name[:-(len(suff))]\n",
    "            students_to_fix[index] = name\n",
    "               \n",
    "        else:\n",
    "            pass\n",
    "\n",
    "print(students_to_fix)"
   ]
  },
  {
   "cell_type": "code",
   "execution_count": null,
   "id": "830ee5af",
   "metadata": {},
   "outputs": [],
   "source": []
  },
  {
   "cell_type": "code",
   "execution_count": null,
   "id": "9433997f",
   "metadata": {},
   "outputs": [],
   "source": []
  }
 ],
 "metadata": {
  "kernelspec": {
   "display_name": "PyCity",
   "language": "python",
   "name": "pycity"
  },
  "language_info": {
   "codemirror_mode": {
    "name": "ipython",
    "version": 3
   },
   "file_extension": ".py",
   "mimetype": "text/x-python",
   "name": "python",
   "nbconvert_exporter": "python",
   "pygments_lexer": "ipython3",
   "version": "3.7.13"
  }
 },
 "nbformat": 4,
 "nbformat_minor": 5
}
